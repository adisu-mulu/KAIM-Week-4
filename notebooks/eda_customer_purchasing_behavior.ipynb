{
 "cells": [
  {
   "cell_type": "code",
   "execution_count": 1,
   "metadata": {},
   "outputs": [],
   "source": [
    "#import necessary libraries\n",
    "import os\n",
    "import sys\n",
    "import pandas as pd\n",
    "import matplotlib.pyplot as plt\n",
    "import seaborn as sns"
   ]
  },
  {
   "cell_type": "code",
   "execution_count": 2,
   "metadata": {},
   "outputs": [],
   "source": [
    "# display all the available columns\n",
    "pd.set_option('display.max_columns', None)\n",
    "# Set option to display numbers in normal form (not scientific notation)\n",
    "#pd.set_option('display.float_format', '{:.6f}'.format)"
   ]
  },
  {
   "cell_type": "code",
   "execution_count": 3,
   "metadata": {},
   "outputs": [
    {
     "name": "stdout",
     "output_type": "stream",
     "text": [
      "['d:\\\\10Academy-KAIM\\\\week-4\\\\notebooks', 'C:\\\\Program Files\\\\Python311\\\\python311.zip', 'C:\\\\Program Files\\\\Python311\\\\DLLs', 'C:\\\\Program Files\\\\Python311\\\\Lib', 'C:\\\\Program Files\\\\Python311', 'd:\\\\10Academy-KAIM\\\\week-4\\\\.venv', '', 'd:\\\\10Academy-KAIM\\\\week-4\\\\.venv\\\\Lib\\\\site-packages', 'C:\\\\Users\\\\kulhab\\\\AppData\\\\Roaming\\\\Python\\\\Python311\\\\site-packages', 'C:\\\\Program Files\\\\Python311\\\\Lib\\\\site-packages', 'd:\\\\10Academy-KAIM\\\\week-4\\\\scripts']\n"
     ]
    }
   ],
   "source": [
    "#add scripts to path so that we can call the functions\n",
    "sys.path.append(os.path.join(os.path.dirname(os.getcwd()), \"scripts\"))\n",
    "print(sys.path)"
   ]
  },
  {
   "cell_type": "code",
   "execution_count": 4,
   "metadata": {},
   "outputs": [
    {
     "name": "stderr",
     "output_type": "stream",
     "text": [
      "d:\\10Academy-KAIM\\week-4\\scripts\\eda_customer_purchasing_behavior.py:11: DtypeWarning: Columns (7) have mixed types. Specify dtype option on import or set low_memory=False.\n",
      "  return pd.read_csv(self.path)\n"
     ]
    }
   ],
   "source": [
    "# import the classes and functions from the scripts\n",
    "from eda_customer_purchasing_behavior import EdaCustomerBehavior\n",
    "sample_submission_ob = EdaCustomerBehavior('../data/sample_submission.csv')\n",
    "sample_submission_df= sample_submission_ob.load_data()\n",
    "store_ob = EdaCustomerBehavior('../data/store.csv')\n",
    "store_df = store_ob.load_data()\n",
    "test_ob = EdaCustomerBehavior('../data/test.csv')\n",
    "test_df = test_ob.load_data()\n",
    "train_ob = EdaCustomerBehavior('../data/train.csv')\n",
    "train_df = train_ob.load_data()"
   ]
  },
  {
   "cell_type": "markdown",
   "metadata": {},
   "source": [
    "### sample submission preprocessing"
   ]
  },
  {
   "cell_type": "code",
   "execution_count": 5,
   "metadata": {},
   "outputs": [
    {
     "data": {
      "text/html": [
       "<div>\n",
       "<style scoped>\n",
       "    .dataframe tbody tr th:only-of-type {\n",
       "        vertical-align: middle;\n",
       "    }\n",
       "\n",
       "    .dataframe tbody tr th {\n",
       "        vertical-align: top;\n",
       "    }\n",
       "\n",
       "    .dataframe thead th {\n",
       "        text-align: right;\n",
       "    }\n",
       "</style>\n",
       "<table border=\"1\" class=\"dataframe\">\n",
       "  <thead>\n",
       "    <tr style=\"text-align: right;\">\n",
       "      <th></th>\n",
       "      <th>Id</th>\n",
       "      <th>Sales</th>\n",
       "    </tr>\n",
       "  </thead>\n",
       "  <tbody>\n",
       "    <tr>\n",
       "      <th>41083</th>\n",
       "      <td>41084</td>\n",
       "      <td>0</td>\n",
       "    </tr>\n",
       "    <tr>\n",
       "      <th>41084</th>\n",
       "      <td>41085</td>\n",
       "      <td>0</td>\n",
       "    </tr>\n",
       "    <tr>\n",
       "      <th>41085</th>\n",
       "      <td>41086</td>\n",
       "      <td>0</td>\n",
       "    </tr>\n",
       "    <tr>\n",
       "      <th>41086</th>\n",
       "      <td>41087</td>\n",
       "      <td>0</td>\n",
       "    </tr>\n",
       "    <tr>\n",
       "      <th>41087</th>\n",
       "      <td>41088</td>\n",
       "      <td>0</td>\n",
       "    </tr>\n",
       "  </tbody>\n",
       "</table>\n",
       "</div>"
      ],
      "text/plain": [
       "          Id  Sales\n",
       "41083  41084      0\n",
       "41084  41085      0\n",
       "41085  41086      0\n",
       "41086  41087      0\n",
       "41087  41088      0"
      ]
     },
     "execution_count": 5,
     "metadata": {},
     "output_type": "execute_result"
    }
   ],
   "source": [
    "sample_submission_df.tail()"
   ]
  },
  {
   "cell_type": "code",
   "execution_count": 6,
   "metadata": {},
   "outputs": [
    {
     "name": "stdout",
     "output_type": "stream",
     "text": [
      "<class 'pandas.core.frame.DataFrame'>\n",
      "RangeIndex: 41088 entries, 0 to 41087\n",
      "Data columns (total 2 columns):\n",
      " #   Column  Non-Null Count  Dtype\n",
      "---  ------  --------------  -----\n",
      " 0   Id      41088 non-null  int64\n",
      " 1   Sales   41088 non-null  int64\n",
      "dtypes: int64(2)\n",
      "memory usage: 642.1 KB\n",
      "None\n"
     ]
    }
   ],
   "source": [
    "# Summary information\n",
    "print(sample_submission_df.info())"
   ]
  },
  {
   "cell_type": "code",
   "execution_count": 7,
   "metadata": {},
   "outputs": [
    {
     "name": "stdout",
     "output_type": "stream",
     "text": [
      "                 Id    Sales\n",
      "count  41088.000000  41088.0\n",
      "mean   20544.500000      0.0\n",
      "std    11861.228267      0.0\n",
      "min        1.000000      0.0\n",
      "25%    10272.750000      0.0\n",
      "50%    20544.500000      0.0\n",
      "75%    30816.250000      0.0\n",
      "max    41088.000000      0.0\n"
     ]
    }
   ],
   "source": [
    "# Summary statistics\n",
    "print(sample_submission_df.describe())"
   ]
  },
  {
   "cell_type": "code",
   "execution_count": 8,
   "metadata": {},
   "outputs": [
    {
     "name": "stdout",
     "output_type": "stream",
     "text": [
      "Id       0\n",
      "Sales    0\n",
      "dtype: int64\n"
     ]
    }
   ],
   "source": [
    "# Check for missing values\n",
    "print(sample_submission_df.isna().sum())"
   ]
  },
  {
   "cell_type": "markdown",
   "metadata": {},
   "source": [
    "### store preprocessing"
   ]
  },
  {
   "cell_type": "code",
   "execution_count": 9,
   "metadata": {},
   "outputs": [
    {
     "data": {
      "text/html": [
       "<div>\n",
       "<style scoped>\n",
       "    .dataframe tbody tr th:only-of-type {\n",
       "        vertical-align: middle;\n",
       "    }\n",
       "\n",
       "    .dataframe tbody tr th {\n",
       "        vertical-align: top;\n",
       "    }\n",
       "\n",
       "    .dataframe thead th {\n",
       "        text-align: right;\n",
       "    }\n",
       "</style>\n",
       "<table border=\"1\" class=\"dataframe\">\n",
       "  <thead>\n",
       "    <tr style=\"text-align: right;\">\n",
       "      <th></th>\n",
       "      <th>Store</th>\n",
       "      <th>StoreType</th>\n",
       "      <th>Assortment</th>\n",
       "      <th>CompetitionDistance</th>\n",
       "      <th>CompetitionOpenSinceMonth</th>\n",
       "      <th>CompetitionOpenSinceYear</th>\n",
       "      <th>Promo2</th>\n",
       "      <th>Promo2SinceWeek</th>\n",
       "      <th>Promo2SinceYear</th>\n",
       "      <th>PromoInterval</th>\n",
       "    </tr>\n",
       "  </thead>\n",
       "  <tbody>\n",
       "    <tr>\n",
       "      <th>0</th>\n",
       "      <td>1</td>\n",
       "      <td>c</td>\n",
       "      <td>a</td>\n",
       "      <td>1270.0</td>\n",
       "      <td>9.0</td>\n",
       "      <td>2008.0</td>\n",
       "      <td>0</td>\n",
       "      <td>NaN</td>\n",
       "      <td>NaN</td>\n",
       "      <td>NaN</td>\n",
       "    </tr>\n",
       "    <tr>\n",
       "      <th>1</th>\n",
       "      <td>2</td>\n",
       "      <td>a</td>\n",
       "      <td>a</td>\n",
       "      <td>570.0</td>\n",
       "      <td>11.0</td>\n",
       "      <td>2007.0</td>\n",
       "      <td>1</td>\n",
       "      <td>13.0</td>\n",
       "      <td>2010.0</td>\n",
       "      <td>Jan,Apr,Jul,Oct</td>\n",
       "    </tr>\n",
       "    <tr>\n",
       "      <th>2</th>\n",
       "      <td>3</td>\n",
       "      <td>a</td>\n",
       "      <td>a</td>\n",
       "      <td>14130.0</td>\n",
       "      <td>12.0</td>\n",
       "      <td>2006.0</td>\n",
       "      <td>1</td>\n",
       "      <td>14.0</td>\n",
       "      <td>2011.0</td>\n",
       "      <td>Jan,Apr,Jul,Oct</td>\n",
       "    </tr>\n",
       "    <tr>\n",
       "      <th>3</th>\n",
       "      <td>4</td>\n",
       "      <td>c</td>\n",
       "      <td>c</td>\n",
       "      <td>620.0</td>\n",
       "      <td>9.0</td>\n",
       "      <td>2009.0</td>\n",
       "      <td>0</td>\n",
       "      <td>NaN</td>\n",
       "      <td>NaN</td>\n",
       "      <td>NaN</td>\n",
       "    </tr>\n",
       "    <tr>\n",
       "      <th>4</th>\n",
       "      <td>5</td>\n",
       "      <td>a</td>\n",
       "      <td>a</td>\n",
       "      <td>29910.0</td>\n",
       "      <td>4.0</td>\n",
       "      <td>2015.0</td>\n",
       "      <td>0</td>\n",
       "      <td>NaN</td>\n",
       "      <td>NaN</td>\n",
       "      <td>NaN</td>\n",
       "    </tr>\n",
       "    <tr>\n",
       "      <th>...</th>\n",
       "      <td>...</td>\n",
       "      <td>...</td>\n",
       "      <td>...</td>\n",
       "      <td>...</td>\n",
       "      <td>...</td>\n",
       "      <td>...</td>\n",
       "      <td>...</td>\n",
       "      <td>...</td>\n",
       "      <td>...</td>\n",
       "      <td>...</td>\n",
       "    </tr>\n",
       "    <tr>\n",
       "      <th>1110</th>\n",
       "      <td>1111</td>\n",
       "      <td>a</td>\n",
       "      <td>a</td>\n",
       "      <td>1900.0</td>\n",
       "      <td>6.0</td>\n",
       "      <td>2014.0</td>\n",
       "      <td>1</td>\n",
       "      <td>31.0</td>\n",
       "      <td>2013.0</td>\n",
       "      <td>Jan,Apr,Jul,Oct</td>\n",
       "    </tr>\n",
       "    <tr>\n",
       "      <th>1111</th>\n",
       "      <td>1112</td>\n",
       "      <td>c</td>\n",
       "      <td>c</td>\n",
       "      <td>1880.0</td>\n",
       "      <td>4.0</td>\n",
       "      <td>2006.0</td>\n",
       "      <td>0</td>\n",
       "      <td>NaN</td>\n",
       "      <td>NaN</td>\n",
       "      <td>NaN</td>\n",
       "    </tr>\n",
       "    <tr>\n",
       "      <th>1112</th>\n",
       "      <td>1113</td>\n",
       "      <td>a</td>\n",
       "      <td>c</td>\n",
       "      <td>9260.0</td>\n",
       "      <td>NaN</td>\n",
       "      <td>NaN</td>\n",
       "      <td>0</td>\n",
       "      <td>NaN</td>\n",
       "      <td>NaN</td>\n",
       "      <td>NaN</td>\n",
       "    </tr>\n",
       "    <tr>\n",
       "      <th>1113</th>\n",
       "      <td>1114</td>\n",
       "      <td>a</td>\n",
       "      <td>c</td>\n",
       "      <td>870.0</td>\n",
       "      <td>NaN</td>\n",
       "      <td>NaN</td>\n",
       "      <td>0</td>\n",
       "      <td>NaN</td>\n",
       "      <td>NaN</td>\n",
       "      <td>NaN</td>\n",
       "    </tr>\n",
       "    <tr>\n",
       "      <th>1114</th>\n",
       "      <td>1115</td>\n",
       "      <td>d</td>\n",
       "      <td>c</td>\n",
       "      <td>5350.0</td>\n",
       "      <td>NaN</td>\n",
       "      <td>NaN</td>\n",
       "      <td>1</td>\n",
       "      <td>22.0</td>\n",
       "      <td>2012.0</td>\n",
       "      <td>Mar,Jun,Sept,Dec</td>\n",
       "    </tr>\n",
       "  </tbody>\n",
       "</table>\n",
       "<p>1115 rows × 10 columns</p>\n",
       "</div>"
      ],
      "text/plain": [
       "      Store StoreType Assortment  CompetitionDistance  \\\n",
       "0         1         c          a               1270.0   \n",
       "1         2         a          a                570.0   \n",
       "2         3         a          a              14130.0   \n",
       "3         4         c          c                620.0   \n",
       "4         5         a          a              29910.0   \n",
       "...     ...       ...        ...                  ...   \n",
       "1110   1111         a          a               1900.0   \n",
       "1111   1112         c          c               1880.0   \n",
       "1112   1113         a          c               9260.0   \n",
       "1113   1114         a          c                870.0   \n",
       "1114   1115         d          c               5350.0   \n",
       "\n",
       "      CompetitionOpenSinceMonth  CompetitionOpenSinceYear  Promo2  \\\n",
       "0                           9.0                    2008.0       0   \n",
       "1                          11.0                    2007.0       1   \n",
       "2                          12.0                    2006.0       1   \n",
       "3                           9.0                    2009.0       0   \n",
       "4                           4.0                    2015.0       0   \n",
       "...                         ...                       ...     ...   \n",
       "1110                        6.0                    2014.0       1   \n",
       "1111                        4.0                    2006.0       0   \n",
       "1112                        NaN                       NaN       0   \n",
       "1113                        NaN                       NaN       0   \n",
       "1114                        NaN                       NaN       1   \n",
       "\n",
       "      Promo2SinceWeek  Promo2SinceYear     PromoInterval  \n",
       "0                 NaN              NaN               NaN  \n",
       "1                13.0           2010.0   Jan,Apr,Jul,Oct  \n",
       "2                14.0           2011.0   Jan,Apr,Jul,Oct  \n",
       "3                 NaN              NaN               NaN  \n",
       "4                 NaN              NaN               NaN  \n",
       "...               ...              ...               ...  \n",
       "1110             31.0           2013.0   Jan,Apr,Jul,Oct  \n",
       "1111              NaN              NaN               NaN  \n",
       "1112              NaN              NaN               NaN  \n",
       "1113              NaN              NaN               NaN  \n",
       "1114             22.0           2012.0  Mar,Jun,Sept,Dec  \n",
       "\n",
       "[1115 rows x 10 columns]"
      ]
     },
     "execution_count": 9,
     "metadata": {},
     "output_type": "execute_result"
    }
   ],
   "source": [
    "store_df"
   ]
  },
  {
   "cell_type": "code",
   "execution_count": 10,
   "metadata": {},
   "outputs": [
    {
     "name": "stdout",
     "output_type": "stream",
     "text": [
      "<class 'pandas.core.frame.DataFrame'>\n",
      "RangeIndex: 1115 entries, 0 to 1114\n",
      "Data columns (total 10 columns):\n",
      " #   Column                     Non-Null Count  Dtype  \n",
      "---  ------                     --------------  -----  \n",
      " 0   Store                      1115 non-null   int64  \n",
      " 1   StoreType                  1115 non-null   object \n",
      " 2   Assortment                 1115 non-null   object \n",
      " 3   CompetitionDistance        1112 non-null   float64\n",
      " 4   CompetitionOpenSinceMonth  761 non-null    float64\n",
      " 5   CompetitionOpenSinceYear   761 non-null    float64\n",
      " 6   Promo2                     1115 non-null   int64  \n",
      " 7   Promo2SinceWeek            571 non-null    float64\n",
      " 8   Promo2SinceYear            571 non-null    float64\n",
      " 9   PromoInterval              571 non-null    object \n",
      "dtypes: float64(5), int64(2), object(3)\n",
      "memory usage: 87.2+ KB\n",
      "None\n"
     ]
    }
   ],
   "source": [
    "# Summary information\n",
    "print(store_df.info())"
   ]
  },
  {
   "cell_type": "code",
   "execution_count": 11,
   "metadata": {},
   "outputs": [
    {
     "name": "stdout",
     "output_type": "stream",
     "text": [
      "            Store  CompetitionDistance  CompetitionOpenSinceMonth  \\\n",
      "count  1115.00000          1112.000000                 761.000000   \n",
      "mean    558.00000          5404.901079                   7.224704   \n",
      "std     322.01708          7663.174720                   3.212348   \n",
      "min       1.00000            20.000000                   1.000000   \n",
      "25%     279.50000           717.500000                   4.000000   \n",
      "50%     558.00000          2325.000000                   8.000000   \n",
      "75%     836.50000          6882.500000                  10.000000   \n",
      "max    1115.00000         75860.000000                  12.000000   \n",
      "\n",
      "       CompetitionOpenSinceYear       Promo2  Promo2SinceWeek  Promo2SinceYear  \n",
      "count                761.000000  1115.000000       571.000000       571.000000  \n",
      "mean                2008.668857     0.512108        23.595447      2011.763573  \n",
      "std                    6.195983     0.500078        14.141984         1.674935  \n",
      "min                 1900.000000     0.000000         1.000000      2009.000000  \n",
      "25%                 2006.000000     0.000000        13.000000      2011.000000  \n",
      "50%                 2010.000000     1.000000        22.000000      2012.000000  \n",
      "75%                 2013.000000     1.000000        37.000000      2013.000000  \n",
      "max                 2015.000000     1.000000        50.000000      2015.000000  \n"
     ]
    }
   ],
   "source": [
    "# Summary statistics\n",
    "print(store_df.describe())"
   ]
  },
  {
   "cell_type": "code",
   "execution_count": 12,
   "metadata": {},
   "outputs": [
    {
     "name": "stdout",
     "output_type": "stream",
     "text": [
      "Store                          0\n",
      "StoreType                      0\n",
      "Assortment                     0\n",
      "CompetitionDistance            3\n",
      "CompetitionOpenSinceMonth    354\n",
      "CompetitionOpenSinceYear     354\n",
      "Promo2                         0\n",
      "Promo2SinceWeek              544\n",
      "Promo2SinceYear              544\n",
      "PromoInterval                544\n",
      "dtype: int64\n"
     ]
    }
   ],
   "source": [
    "# Check for missing values\n",
    "print(store_df.isna().sum())"
   ]
  },
  {
   "cell_type": "code",
   "execution_count": 13,
   "metadata": {},
   "outputs": [
    {
     "name": "stdout",
     "output_type": "stream",
     "text": [
      "Store                        0\n",
      "StoreType                    0\n",
      "Assortment                   0\n",
      "CompetitionDistance          0\n",
      "CompetitionOpenSinceMonth    0\n",
      "CompetitionOpenSinceYear     0\n",
      "Promo2                       0\n",
      "Promo2SinceWeek              0\n",
      "Promo2SinceYear              0\n",
      "PromoInterval                0\n",
      "dtype: int64\n"
     ]
    }
   ],
   "source": [
    "# fill all missing values with the mode\n",
    "store_df.fillna(store_df.mode().iloc[0], inplace=True)\n",
    "# Check for missing values\n",
    "print(store_df.isna().sum())"
   ]
  },
  {
   "cell_type": "code",
   "execution_count": 14,
   "metadata": {},
   "outputs": [],
   "source": [
    "# Convert Month column from float to integer\n",
    "store_df['CompetitionOpenSinceMonth'] = store_df['CompetitionOpenSinceMonth'].astype(int)\n",
    "store_df['CompetitionOpenSinceYear'] = store_df['CompetitionOpenSinceYear'].astype(int)"
   ]
  },
  {
   "cell_type": "code",
   "execution_count": 15,
   "metadata": {},
   "outputs": [
    {
     "name": "stdout",
     "output_type": "stream",
     "text": [
      "<class 'pandas.core.frame.DataFrame'>\n",
      "RangeIndex: 1115 entries, 0 to 1114\n",
      "Data columns (total 10 columns):\n",
      " #   Column                     Non-Null Count  Dtype  \n",
      "---  ------                     --------------  -----  \n",
      " 0   Store                      1115 non-null   int64  \n",
      " 1   StoreType                  1115 non-null   object \n",
      " 2   Assortment                 1115 non-null   object \n",
      " 3   CompetitionDistance        1115 non-null   float64\n",
      " 4   CompetitionOpenSinceMonth  1115 non-null   int32  \n",
      " 5   CompetitionOpenSinceYear   1115 non-null   int32  \n",
      " 6   Promo2                     1115 non-null   int64  \n",
      " 7   Promo2SinceWeek            1115 non-null   float64\n",
      " 8   Promo2SinceYear            1115 non-null   float64\n",
      " 9   PromoInterval              1115 non-null   object \n",
      "dtypes: float64(3), int32(2), int64(2), object(3)\n",
      "memory usage: 78.5+ KB\n",
      "None\n"
     ]
    }
   ],
   "source": [
    "# Summary information\n",
    "print(store_df.info())"
   ]
  },
  {
   "cell_type": "code",
   "execution_count": 16,
   "metadata": {},
   "outputs": [
    {
     "data": {
      "text/plain": [
       "<Axes: >"
      ]
     },
     "execution_count": 16,
     "metadata": {},
     "output_type": "execute_result"
    },
    {
     "data": {
      "image/png": "[encoded data removed]",
      "text/plain": [
       "<Figure size 640x480 with 1 Axes>"
      ]
     },
     "metadata": {},
     "output_type": "display_data"
    }
   ],
   "source": [
    "# see if there is an outlier\n",
    "store_df['CompetitionDistance'].plot(kind='box')"
   ]
  },
  {
   "cell_type": "code",
   "execution_count": 17,
   "metadata": {},
   "outputs": [
    {
     "data": {
      "text/plain": [
       "<Axes: >"
      ]
     },
     "execution_count": 17,
     "metadata": {},
     "output_type": "execute_result"
    },
    {
     "data": {
      "image/png": "[encoded data removed]",
      "text/plain": [
       "<Figure size 640x480 with 1 Axes>"
      ]
     },
     "metadata": {},
     "output_type": "display_data"
    }
   ],
   "source": [
    "store_df['CompetitionDistance'].hist(bins=30)\n",
    "#plt.show()"
   ]
  },
  {
   "cell_type": "code",
   "execution_count": 18,
   "metadata": {},
   "outputs": [
    {
     "data": {
      "text/html": [
       "<div>\n",
       "<style scoped>\n",
       "    .dataframe tbody tr th:only-of-type {\n",
       "        vertical-align: middle;\n",
       "    }\n",
       "\n",
       "    .dataframe tbody tr th {\n",
       "        vertical-align: top;\n",
       "    }\n",
       "\n",
       "    .dataframe thead th {\n",
       "        text-align: right;\n",
       "    }\n",
       "</style>\n",
       "<table border=\"1\" class=\"dataframe\">\n",
       "  <thead>\n",
       "    <tr style=\"text-align: right;\">\n",
       "      <th></th>\n",
       "      <th>Store</th>\n",
       "      <th>StoreType</th>\n",
       "      <th>Assortment</th>\n",
       "      <th>CompetitionDistance</th>\n",
       "      <th>CompetitionOpenSinceMonth</th>\n",
       "      <th>CompetitionOpenSinceYear</th>\n",
       "      <th>Promo2</th>\n",
       "      <th>Promo2SinceWeek</th>\n",
       "      <th>Promo2SinceYear</th>\n",
       "      <th>PromoInterval</th>\n",
       "    </tr>\n",
       "  </thead>\n",
       "  <tbody>\n",
       "    <tr>\n",
       "      <th>0</th>\n",
       "      <td>1</td>\n",
       "      <td>c</td>\n",
       "      <td>a</td>\n",
       "      <td>1270.0</td>\n",
       "      <td>9</td>\n",
       "      <td>2008</td>\n",
       "      <td>0</td>\n",
       "      <td>14.0</td>\n",
       "      <td>2011.0</td>\n",
       "      <td>Jan,Apr,Jul,Oct</td>\n",
       "    </tr>\n",
       "    <tr>\n",
       "      <th>1</th>\n",
       "      <td>2</td>\n",
       "      <td>a</td>\n",
       "      <td>a</td>\n",
       "      <td>570.0</td>\n",
       "      <td>11</td>\n",
       "      <td>2007</td>\n",
       "      <td>1</td>\n",
       "      <td>13.0</td>\n",
       "      <td>2010.0</td>\n",
       "      <td>Jan,Apr,Jul,Oct</td>\n",
       "    </tr>\n",
       "    <tr>\n",
       "      <th>2</th>\n",
       "      <td>3</td>\n",
       "      <td>a</td>\n",
       "      <td>a</td>\n",
       "      <td>14130.0</td>\n",
       "      <td>12</td>\n",
       "      <td>2006</td>\n",
       "      <td>1</td>\n",
       "      <td>14.0</td>\n",
       "      <td>2011.0</td>\n",
       "      <td>Jan,Apr,Jul,Oct</td>\n",
       "    </tr>\n",
       "    <tr>\n",
       "      <th>3</th>\n",
       "      <td>4</td>\n",
       "      <td>c</td>\n",
       "      <td>c</td>\n",
       "      <td>620.0</td>\n",
       "      <td>9</td>\n",
       "      <td>2009</td>\n",
       "      <td>0</td>\n",
       "      <td>14.0</td>\n",
       "      <td>2011.0</td>\n",
       "      <td>Jan,Apr,Jul,Oct</td>\n",
       "    </tr>\n",
       "    <tr>\n",
       "      <th>4</th>\n",
       "      <td>5</td>\n",
       "      <td>a</td>\n",
       "      <td>a</td>\n",
       "      <td>29910.0</td>\n",
       "      <td>4</td>\n",
       "      <td>2015</td>\n",
       "      <td>0</td>\n",
       "      <td>14.0</td>\n",
       "      <td>2011.0</td>\n",
       "      <td>Jan,Apr,Jul,Oct</td>\n",
       "    </tr>\n",
       "  </tbody>\n",
       "</table>\n",
       "</div>"
      ],
      "text/plain": [
       "   Store StoreType Assortment  CompetitionDistance  CompetitionOpenSinceMonth  \\\n",
       "0      1         c          a               1270.0                          9   \n",
       "1      2         a          a                570.0                         11   \n",
       "2      3         a          a              14130.0                         12   \n",
       "3      4         c          c                620.0                          9   \n",
       "4      5         a          a              29910.0                          4   \n",
       "\n",
       "   CompetitionOpenSinceYear  Promo2  Promo2SinceWeek  Promo2SinceYear  \\\n",
       "0                      2008       0             14.0           2011.0   \n",
       "1                      2007       1             13.0           2010.0   \n",
       "2                      2006       1             14.0           2011.0   \n",
       "3                      2009       0             14.0           2011.0   \n",
       "4                      2015       0             14.0           2011.0   \n",
       "\n",
       "     PromoInterval  \n",
       "0  Jan,Apr,Jul,Oct  \n",
       "1  Jan,Apr,Jul,Oct  \n",
       "2  Jan,Apr,Jul,Oct  \n",
       "3  Jan,Apr,Jul,Oct  \n",
       "4  Jan,Apr,Jul,Oct  "
      ]
     },
     "execution_count": 18,
     "metadata": {},
     "output_type": "execute_result"
    }
   ],
   "source": [
    "store_df.head()"
   ]
  },
  {
   "cell_type": "markdown",
   "metadata": {},
   "source": [
    "### test preprocessing"
   ]
  },
  {
   "cell_type": "code",
   "execution_count": 19,
   "metadata": {},
   "outputs": [
    {
     "data": {
      "text/html": [
       "<div>\n",
       "<style scoped>\n",
       "    .dataframe tbody tr th:only-of-type {\n",
       "        vertical-align: middle;\n",
       "    }\n",
       "\n",
       "    .dataframe tbody tr th {\n",
       "        vertical-align: top;\n",
       "    }\n",
       "\n",
       "    .dataframe thead th {\n",
       "        text-align: right;\n",
       "    }\n",
       "</style>\n",
       "<table border=\"1\" class=\"dataframe\">\n",
       "  <thead>\n",
       "    <tr style=\"text-align: right;\">\n",
       "      <th></th>\n",
       "      <th>Id</th>\n",
       "      <th>Store</th>\n",
       "      <th>DayOfWeek</th>\n",
       "      <th>Date</th>\n",
       "      <th>Open</th>\n",
       "      <th>Promo</th>\n",
       "      <th>StateHoliday</th>\n",
       "      <th>SchoolHoliday</th>\n",
       "    </tr>\n",
       "  </thead>\n",
       "  <tbody>\n",
       "    <tr>\n",
       "      <th>0</th>\n",
       "      <td>1</td>\n",
       "      <td>1</td>\n",
       "      <td>4</td>\n",
       "      <td>2015-09-17</td>\n",
       "      <td>1.0</td>\n",
       "      <td>1</td>\n",
       "      <td>0</td>\n",
       "      <td>0</td>\n",
       "    </tr>\n",
       "    <tr>\n",
       "      <th>1</th>\n",
       "      <td>2</td>\n",
       "      <td>3</td>\n",
       "      <td>4</td>\n",
       "      <td>2015-09-17</td>\n",
       "      <td>1.0</td>\n",
       "      <td>1</td>\n",
       "      <td>0</td>\n",
       "      <td>0</td>\n",
       "    </tr>\n",
       "    <tr>\n",
       "      <th>2</th>\n",
       "      <td>3</td>\n",
       "      <td>7</td>\n",
       "      <td>4</td>\n",
       "      <td>2015-09-17</td>\n",
       "      <td>1.0</td>\n",
       "      <td>1</td>\n",
       "      <td>0</td>\n",
       "      <td>0</td>\n",
       "    </tr>\n",
       "    <tr>\n",
       "      <th>3</th>\n",
       "      <td>4</td>\n",
       "      <td>8</td>\n",
       "      <td>4</td>\n",
       "      <td>2015-09-17</td>\n",
       "      <td>1.0</td>\n",
       "      <td>1</td>\n",
       "      <td>0</td>\n",
       "      <td>0</td>\n",
       "    </tr>\n",
       "    <tr>\n",
       "      <th>4</th>\n",
       "      <td>5</td>\n",
       "      <td>9</td>\n",
       "      <td>4</td>\n",
       "      <td>2015-09-17</td>\n",
       "      <td>1.0</td>\n",
       "      <td>1</td>\n",
       "      <td>0</td>\n",
       "      <td>0</td>\n",
       "    </tr>\n",
       "    <tr>\n",
       "      <th>...</th>\n",
       "      <td>...</td>\n",
       "      <td>...</td>\n",
       "      <td>...</td>\n",
       "      <td>...</td>\n",
       "      <td>...</td>\n",
       "      <td>...</td>\n",
       "      <td>...</td>\n",
       "      <td>...</td>\n",
       "    </tr>\n",
       "    <tr>\n",
       "      <th>41083</th>\n",
       "      <td>41084</td>\n",
       "      <td>1111</td>\n",
       "      <td>6</td>\n",
       "      <td>2015-08-01</td>\n",
       "      <td>1.0</td>\n",
       "      <td>0</td>\n",
       "      <td>0</td>\n",
       "      <td>0</td>\n",
       "    </tr>\n",
       "    <tr>\n",
       "      <th>41084</th>\n",
       "      <td>41085</td>\n",
       "      <td>1112</td>\n",
       "      <td>6</td>\n",
       "      <td>2015-08-01</td>\n",
       "      <td>1.0</td>\n",
       "      <td>0</td>\n",
       "      <td>0</td>\n",
       "      <td>0</td>\n",
       "    </tr>\n",
       "    <tr>\n",
       "      <th>41085</th>\n",
       "      <td>41086</td>\n",
       "      <td>1113</td>\n",
       "      <td>6</td>\n",
       "      <td>2015-08-01</td>\n",
       "      <td>1.0</td>\n",
       "      <td>0</td>\n",
       "      <td>0</td>\n",
       "      <td>0</td>\n",
       "    </tr>\n",
       "    <tr>\n",
       "      <th>41086</th>\n",
       "      <td>41087</td>\n",
       "      <td>1114</td>\n",
       "      <td>6</td>\n",
       "      <td>2015-08-01</td>\n",
       "      <td>1.0</td>\n",
       "      <td>0</td>\n",
       "      <td>0</td>\n",
       "      <td>0</td>\n",
       "    </tr>\n",
       "    <tr>\n",
       "      <th>41087</th>\n",
       "      <td>41088</td>\n",
       "      <td>1115</td>\n",
       "      <td>6</td>\n",
       "      <td>2015-08-01</td>\n",
       "      <td>1.0</td>\n",
       "      <td>0</td>\n",
       "      <td>0</td>\n",
       "      <td>1</td>\n",
       "    </tr>\n",
       "  </tbody>\n",
       "</table>\n",
       "<p>41088 rows × 8 columns</p>\n",
       "</div>"
      ],
      "text/plain": [
       "          Id  Store  DayOfWeek        Date  Open  Promo StateHoliday  \\\n",
       "0          1      1          4  2015-09-17   1.0      1            0   \n",
       "1          2      3          4  2015-09-17   1.0      1            0   \n",
       "2          3      7          4  2015-09-17   1.0      1            0   \n",
       "3          4      8          4  2015-09-17   1.0      1            0   \n",
       "4          5      9          4  2015-09-17   1.0      1            0   \n",
       "...      ...    ...        ...         ...   ...    ...          ...   \n",
       "41083  41084   1111          6  2015-08-01   1.0      0            0   \n",
       "41084  41085   1112          6  2015-08-01   1.0      0            0   \n",
       "41085  41086   1113          6  2015-08-01   1.0      0            0   \n",
       "41086  41087   1114          6  2015-08-01   1.0      0            0   \n",
       "41087  41088   1115          6  2015-08-01   1.0      0            0   \n",
       "\n",
       "       SchoolHoliday  \n",
       "0                  0  \n",
       "1                  0  \n",
       "2                  0  \n",
       "3                  0  \n",
       "4                  0  \n",
       "...              ...  \n",
       "41083              0  \n",
       "41084              0  \n",
       "41085              0  \n",
       "41086              0  \n",
       "41087              1  \n",
       "\n",
       "[41088 rows x 8 columns]"
      ]
     },
     "execution_count": 19,
     "metadata": {},
     "output_type": "execute_result"
    }
   ],
   "source": [
    "test_df"
   ]
  },
  {
   "cell_type": "code",
   "execution_count": 20,
   "metadata": {},
   "outputs": [
    {
     "name": "stdout",
     "output_type": "stream",
     "text": [
      "<class 'pandas.core.frame.DataFrame'>\n",
      "RangeIndex: 41088 entries, 0 to 41087\n",
      "Data columns (total 8 columns):\n",
      " #   Column         Non-Null Count  Dtype  \n",
      "---  ------         --------------  -----  \n",
      " 0   Id             41088 non-null  int64  \n",
      " 1   Store          41088 non-null  int64  \n",
      " 2   DayOfWeek      41088 non-null  int64  \n",
      " 3   Date           41088 non-null  object \n",
      " 4   Open           41077 non-null  float64\n",
      " 5   Promo          41088 non-null  int64  \n",
      " 6   StateHoliday   41088 non-null  object \n",
      " 7   SchoolHoliday  41088 non-null  int64  \n",
      "dtypes: float64(1), int64(5), object(2)\n",
      "memory usage: 2.5+ MB\n"
     ]
    }
   ],
   "source": [
    "# check data types\n",
    "test_df.info()"
   ]
  },
  {
   "cell_type": "code",
   "execution_count": 21,
   "metadata": {},
   "outputs": [],
   "source": [
    "#convert date column to Date\n",
    "test_df['Date'] = pd.to_datetime(test_df['Date'])"
   ]
  },
  {
   "cell_type": "code",
   "execution_count": 22,
   "metadata": {},
   "outputs": [
    {
     "data": {
      "text/html": [
       "<div>\n",
       "<style scoped>\n",
       "    .dataframe tbody tr th:only-of-type {\n",
       "        vertical-align: middle;\n",
       "    }\n",
       "\n",
       "    .dataframe tbody tr th {\n",
       "        vertical-align: top;\n",
       "    }\n",
       "\n",
       "    .dataframe thead th {\n",
       "        text-align: right;\n",
       "    }\n",
       "</style>\n",
       "<table border=\"1\" class=\"dataframe\">\n",
       "  <thead>\n",
       "    <tr style=\"text-align: right;\">\n",
       "      <th></th>\n",
       "      <th>Id</th>\n",
       "      <th>Store</th>\n",
       "      <th>DayOfWeek</th>\n",
       "      <th>Date</th>\n",
       "      <th>Open</th>\n",
       "      <th>Promo</th>\n",
       "      <th>SchoolHoliday</th>\n",
       "    </tr>\n",
       "  </thead>\n",
       "  <tbody>\n",
       "    <tr>\n",
       "      <th>count</th>\n",
       "      <td>41088.000000</td>\n",
       "      <td>41088.000000</td>\n",
       "      <td>41088.000000</td>\n",
       "      <td>41088</td>\n",
       "      <td>41077.000000</td>\n",
       "      <td>41088.000000</td>\n",
       "      <td>41088.000000</td>\n",
       "    </tr>\n",
       "    <tr>\n",
       "      <th>mean</th>\n",
       "      <td>20544.500000</td>\n",
       "      <td>555.899533</td>\n",
       "      <td>3.979167</td>\n",
       "      <td>2015-08-24 12:00:00</td>\n",
       "      <td>0.854322</td>\n",
       "      <td>0.395833</td>\n",
       "      <td>0.443487</td>\n",
       "    </tr>\n",
       "    <tr>\n",
       "      <th>min</th>\n",
       "      <td>1.000000</td>\n",
       "      <td>1.000000</td>\n",
       "      <td>1.000000</td>\n",
       "      <td>2015-08-01 00:00:00</td>\n",
       "      <td>0.000000</td>\n",
       "      <td>0.000000</td>\n",
       "      <td>0.000000</td>\n",
       "    </tr>\n",
       "    <tr>\n",
       "      <th>25%</th>\n",
       "      <td>10272.750000</td>\n",
       "      <td>279.750000</td>\n",
       "      <td>2.000000</td>\n",
       "      <td>2015-08-12 18:00:00</td>\n",
       "      <td>1.000000</td>\n",
       "      <td>0.000000</td>\n",
       "      <td>0.000000</td>\n",
       "    </tr>\n",
       "    <tr>\n",
       "      <th>50%</th>\n",
       "      <td>20544.500000</td>\n",
       "      <td>553.500000</td>\n",
       "      <td>4.000000</td>\n",
       "      <td>2015-08-24 12:00:00</td>\n",
       "      <td>1.000000</td>\n",
       "      <td>0.000000</td>\n",
       "      <td>0.000000</td>\n",
       "    </tr>\n",
       "    <tr>\n",
       "      <th>75%</th>\n",
       "      <td>30816.250000</td>\n",
       "      <td>832.250000</td>\n",
       "      <td>6.000000</td>\n",
       "      <td>2015-09-05 06:00:00</td>\n",
       "      <td>1.000000</td>\n",
       "      <td>1.000000</td>\n",
       "      <td>1.000000</td>\n",
       "    </tr>\n",
       "    <tr>\n",
       "      <th>max</th>\n",
       "      <td>41088.000000</td>\n",
       "      <td>1115.000000</td>\n",
       "      <td>7.000000</td>\n",
       "      <td>2015-09-17 00:00:00</td>\n",
       "      <td>1.000000</td>\n",
       "      <td>1.000000</td>\n",
       "      <td>1.000000</td>\n",
       "    </tr>\n",
       "    <tr>\n",
       "      <th>std</th>\n",
       "      <td>11861.228267</td>\n",
       "      <td>320.274496</td>\n",
       "      <td>2.015481</td>\n",
       "      <td>NaN</td>\n",
       "      <td>0.352787</td>\n",
       "      <td>0.489035</td>\n",
       "      <td>0.496802</td>\n",
       "    </tr>\n",
       "  </tbody>\n",
       "</table>\n",
       "</div>"
      ],
      "text/plain": [
       "                 Id         Store     DayOfWeek                 Date  \\\n",
       "count  41088.000000  41088.000000  41088.000000                41088   \n",
       "mean   20544.500000    555.899533      3.979167  2015-08-24 12:00:00   \n",
       "min        1.000000      1.000000      1.000000  2015-08-01 00:00:00   \n",
       "25%    10272.750000    279.750000      2.000000  2015-08-12 18:00:00   \n",
       "50%    20544.500000    553.500000      4.000000  2015-08-24 12:00:00   \n",
       "75%    30816.250000    832.250000      6.000000  2015-09-05 06:00:00   \n",
       "max    41088.000000   1115.000000      7.000000  2015-09-17 00:00:00   \n",
       "std    11861.228267    320.274496      2.015481                  NaN   \n",
       "\n",
       "               Open         Promo  SchoolHoliday  \n",
       "count  41077.000000  41088.000000   41088.000000  \n",
       "mean       0.854322      0.395833       0.443487  \n",
       "min        0.000000      0.000000       0.000000  \n",
       "25%        1.000000      0.000000       0.000000  \n",
       "50%        1.000000      0.000000       0.000000  \n",
       "75%        1.000000      1.000000       1.000000  \n",
       "max        1.000000      1.000000       1.000000  \n",
       "std        0.352787      0.489035       0.496802  "
      ]
     },
     "execution_count": 22,
     "metadata": {},
     "output_type": "execute_result"
    }
   ],
   "source": [
    "# check statistics summary\n",
    "test_df.describe()"
   ]
  },
  {
   "cell_type": "code",
   "execution_count": 23,
   "metadata": {},
   "outputs": [
    {
     "data": {
      "text/plain": [
       "Id                0\n",
       "Store             0\n",
       "DayOfWeek         0\n",
       "Date              0\n",
       "Open             11\n",
       "Promo             0\n",
       "StateHoliday      0\n",
       "SchoolHoliday     0\n",
       "dtype: int64"
      ]
     },
     "execution_count": 23,
     "metadata": {},
     "output_type": "execute_result"
    }
   ],
   "source": [
    "# check for missing values\n",
    "test_df.isna().sum()"
   ]
  },
  {
   "cell_type": "code",
   "execution_count": 24,
   "metadata": {},
   "outputs": [],
   "source": [
    "# fill missing values with mode\n",
    "test_df.fillna(test_df.mode().iloc[0], inplace=True)"
   ]
  },
  {
   "cell_type": "markdown",
   "metadata": {},
   "source": [
    "### train preprocessing"
   ]
  },
  {
   "cell_type": "code",
   "execution_count": 25,
   "metadata": {},
   "outputs": [
    {
     "data": {
      "text/html": [
       "<div>\n",
       "<style scoped>\n",
       "    .dataframe tbody tr th:only-of-type {\n",
       "        vertical-align: middle;\n",
       "    }\n",
       "\n",
       "    .dataframe tbody tr th {\n",
       "        vertical-align: top;\n",
       "    }\n",
       "\n",
       "    .dataframe thead th {\n",
       "        text-align: right;\n",
       "    }\n",
       "</style>\n",
       "<table border=\"1\" class=\"dataframe\">\n",
       "  <thead>\n",
       "    <tr style=\"text-align: right;\">\n",
       "      <th></th>\n",
       "      <th>Store</th>\n",
       "      <th>DayOfWeek</th>\n",
       "      <th>Date</th>\n",
       "      <th>Sales</th>\n",
       "      <th>Customers</th>\n",
       "      <th>Open</th>\n",
       "      <th>Promo</th>\n",
       "      <th>StateHoliday</th>\n",
       "      <th>SchoolHoliday</th>\n",
       "    </tr>\n",
       "  </thead>\n",
       "  <tbody>\n",
       "    <tr>\n",
       "      <th>0</th>\n",
       "      <td>1</td>\n",
       "      <td>5</td>\n",
       "      <td>2015-07-31</td>\n",
       "      <td>5263</td>\n",
       "      <td>555</td>\n",
       "      <td>1</td>\n",
       "      <td>1</td>\n",
       "      <td>0</td>\n",
       "      <td>1</td>\n",
       "    </tr>\n",
       "    <tr>\n",
       "      <th>1</th>\n",
       "      <td>2</td>\n",
       "      <td>5</td>\n",
       "      <td>2015-07-31</td>\n",
       "      <td>6064</td>\n",
       "      <td>625</td>\n",
       "      <td>1</td>\n",
       "      <td>1</td>\n",
       "      <td>0</td>\n",
       "      <td>1</td>\n",
       "    </tr>\n",
       "    <tr>\n",
       "      <th>2</th>\n",
       "      <td>3</td>\n",
       "      <td>5</td>\n",
       "      <td>2015-07-31</td>\n",
       "      <td>8314</td>\n",
       "      <td>821</td>\n",
       "      <td>1</td>\n",
       "      <td>1</td>\n",
       "      <td>0</td>\n",
       "      <td>1</td>\n",
       "    </tr>\n",
       "    <tr>\n",
       "      <th>3</th>\n",
       "      <td>4</td>\n",
       "      <td>5</td>\n",
       "      <td>2015-07-31</td>\n",
       "      <td>13995</td>\n",
       "      <td>1498</td>\n",
       "      <td>1</td>\n",
       "      <td>1</td>\n",
       "      <td>0</td>\n",
       "      <td>1</td>\n",
       "    </tr>\n",
       "    <tr>\n",
       "      <th>4</th>\n",
       "      <td>5</td>\n",
       "      <td>5</td>\n",
       "      <td>2015-07-31</td>\n",
       "      <td>4822</td>\n",
       "      <td>559</td>\n",
       "      <td>1</td>\n",
       "      <td>1</td>\n",
       "      <td>0</td>\n",
       "      <td>1</td>\n",
       "    </tr>\n",
       "    <tr>\n",
       "      <th>...</th>\n",
       "      <td>...</td>\n",
       "      <td>...</td>\n",
       "      <td>...</td>\n",
       "      <td>...</td>\n",
       "      <td>...</td>\n",
       "      <td>...</td>\n",
       "      <td>...</td>\n",
       "      <td>...</td>\n",
       "      <td>...</td>\n",
       "    </tr>\n",
       "    <tr>\n",
       "      <th>1017204</th>\n",
       "      <td>1111</td>\n",
       "      <td>2</td>\n",
       "      <td>2013-01-01</td>\n",
       "      <td>0</td>\n",
       "      <td>0</td>\n",
       "      <td>0</td>\n",
       "      <td>0</td>\n",
       "      <td>a</td>\n",
       "      <td>1</td>\n",
       "    </tr>\n",
       "    <tr>\n",
       "      <th>1017205</th>\n",
       "      <td>1112</td>\n",
       "      <td>2</td>\n",
       "      <td>2013-01-01</td>\n",
       "      <td>0</td>\n",
       "      <td>0</td>\n",
       "      <td>0</td>\n",
       "      <td>0</td>\n",
       "      <td>a</td>\n",
       "      <td>1</td>\n",
       "    </tr>\n",
       "    <tr>\n",
       "      <th>1017206</th>\n",
       "      <td>1113</td>\n",
       "      <td>2</td>\n",
       "      <td>2013-01-01</td>\n",
       "      <td>0</td>\n",
       "      <td>0</td>\n",
       "      <td>0</td>\n",
       "      <td>0</td>\n",
       "      <td>a</td>\n",
       "      <td>1</td>\n",
       "    </tr>\n",
       "    <tr>\n",
       "      <th>1017207</th>\n",
       "      <td>1114</td>\n",
       "      <td>2</td>\n",
       "      <td>2013-01-01</td>\n",
       "      <td>0</td>\n",
       "      <td>0</td>\n",
       "      <td>0</td>\n",
       "      <td>0</td>\n",
       "      <td>a</td>\n",
       "      <td>1</td>\n",
       "    </tr>\n",
       "    <tr>\n",
       "      <th>1017208</th>\n",
       "      <td>1115</td>\n",
       "      <td>2</td>\n",
       "      <td>2013-01-01</td>\n",
       "      <td>0</td>\n",
       "      <td>0</td>\n",
       "      <td>0</td>\n",
       "      <td>0</td>\n",
       "      <td>a</td>\n",
       "      <td>1</td>\n",
       "    </tr>\n",
       "  </tbody>\n",
       "</table>\n",
       "<p>1017209 rows × 9 columns</p>\n",
       "</div>"
      ],
      "text/plain": [
       "         Store  DayOfWeek        Date  Sales  Customers  Open  Promo  \\\n",
       "0            1          5  2015-07-31   5263        555     1      1   \n",
       "1            2          5  2015-07-31   6064        625     1      1   \n",
       "2            3          5  2015-07-31   8314        821     1      1   \n",
       "3            4          5  2015-07-31  13995       1498     1      1   \n",
       "4            5          5  2015-07-31   4822        559     1      1   \n",
       "...        ...        ...         ...    ...        ...   ...    ...   \n",
       "1017204   1111          2  2013-01-01      0          0     0      0   \n",
       "1017205   1112          2  2013-01-01      0          0     0      0   \n",
       "1017206   1113          2  2013-01-01      0          0     0      0   \n",
       "1017207   1114          2  2013-01-01      0          0     0      0   \n",
       "1017208   1115          2  2013-01-01      0          0     0      0   \n",
       "\n",
       "        StateHoliday  SchoolHoliday  \n",
       "0                  0              1  \n",
       "1                  0              1  \n",
       "2                  0              1  \n",
       "3                  0              1  \n",
       "4                  0              1  \n",
       "...              ...            ...  \n",
       "1017204            a              1  \n",
       "1017205            a              1  \n",
       "1017206            a              1  \n",
       "1017207            a              1  \n",
       "1017208            a              1  \n",
       "\n",
       "[1017209 rows x 9 columns]"
      ]
     },
     "execution_count": 25,
     "metadata": {},
     "output_type": "execute_result"
    }
   ],
   "source": [
    "train_df"
   ]
  },
  {
   "cell_type": "code",
   "execution_count": 26,
   "metadata": {},
   "outputs": [
    {
     "name": "stdout",
     "output_type": "stream",
     "text": [
      "<class 'pandas.core.frame.DataFrame'>\n",
      "RangeIndex: 1017209 entries, 0 to 1017208\n",
      "Data columns (total 9 columns):\n",
      " #   Column         Non-Null Count    Dtype \n",
      "---  ------         --------------    ----- \n",
      " 0   Store          1017209 non-null  int64 \n",
      " 1   DayOfWeek      1017209 non-null  int64 \n",
      " 2   Date           1017209 non-null  object\n",
      " 3   Sales          1017209 non-null  int64 \n",
      " 4   Customers      1017209 non-null  int64 \n",
      " 5   Open           1017209 non-null  int64 \n",
      " 6   Promo          1017209 non-null  int64 \n",
      " 7   StateHoliday   1017209 non-null  object\n",
      " 8   SchoolHoliday  1017209 non-null  int64 \n",
      "dtypes: int64(7), object(2)\n",
      "memory usage: 69.8+ MB\n"
     ]
    }
   ],
   "source": [
    "# check dataframe info\n",
    "train_df.info()"
   ]
  },
  {
   "cell_type": "code",
   "execution_count": 27,
   "metadata": {},
   "outputs": [],
   "source": [
    "# convert date column to Date\n",
    "train_df['Date'] = pd.to_datetime(train_df['Date'])"
   ]
  },
  {
   "cell_type": "code",
   "execution_count": 28,
   "metadata": {},
   "outputs": [
    {
     "data": {
      "text/plain": [
       "Store            0\n",
       "DayOfWeek        0\n",
       "Date             0\n",
       "Sales            0\n",
       "Customers        0\n",
       "Open             0\n",
       "Promo            0\n",
       "StateHoliday     0\n",
       "SchoolHoliday    0\n",
       "dtype: int64"
      ]
     },
     "execution_count": 28,
     "metadata": {},
     "output_type": "execute_result"
    }
   ],
   "source": [
    "# check missing values\n",
    "train_df.isna().sum()"
   ]
  },
  {
   "cell_type": "markdown",
   "metadata": {},
   "source": [
    "### Analysis"
   ]
  },
  {
   "cell_type": "code",
   "execution_count": 29,
   "metadata": {},
   "outputs": [
    {
     "name": "stdout",
     "output_type": "stream",
     "text": [
      "Promo\n",
      "0    629129\n",
      "1    388080\n",
      "Name: count, dtype: int64\n",
      "Promo\n",
      "0    24824\n",
      "1    16264\n",
      "Name: count, dtype: int64\n"
     ]
    }
   ],
   "source": [
    "# check for distribution of promotions between train and test data\n",
    "# Quick check of the Promo column\n",
    "print(train_df['Promo'].value_counts())\n",
    "print(test_df['Promo'].value_counts())"
   ]
  },
  {
   "cell_type": "code",
   "execution_count": 30,
   "metadata": {},
   "outputs": [
    {
     "name": "stdout",
     "output_type": "stream",
     "text": [
      "Training Set Promo Proportion:\n",
      " Promo\n",
      "0    0.618485\n",
      "1    0.381515\n",
      "Name: proportion, dtype: float64\n",
      "Test Set Promo Proportion:\n",
      " Promo\n",
      "0    0.604167\n",
      "1    0.395833\n",
      "Name: proportion, dtype: float64\n"
     ]
    }
   ],
   "source": [
    "# Calculate proportion of promo days in training and test sets\n",
    "train_promo_proportion = train_df['Promo'].value_counts(normalize=True)\n",
    "test_promo_proportion = test_df['Promo'].value_counts(normalize=True)\n",
    "\n",
    "# Display the results\n",
    "print(\"Training Set Promo Proportion:\\n\", train_promo_proportion)\n",
    "print(\"Test Set Promo Proportion:\\n\", test_promo_proportion)"
   ]
  },
  {
   "cell_type": "code",
   "execution_count": 31,
   "metadata": {},
   "outputs": [
    {
     "data": {
      "image/png": "[encoded data removed]",
      "text/plain": [
       "<Figure size 1200x500 with 2 Axes>"
      ]
     },
     "metadata": {},
     "output_type": "display_data"
    }
   ],
   "source": [
    "# Plot the Promo distribution for both training and test sets\n",
    "fig, axes = plt.subplots(1, 2, figsize=(12, 5))\n",
    "\n",
    "# Training set distribution\n",
    "sns.barplot(x=train_promo_proportion.index, y=train_promo_proportion.values, ax=axes[0])\n",
    "axes[0].set_title('Promo Distribution - Training Set')\n",
    "axes[0].set_xlabel('Promo (1 = Promo, 0 = No Promo)')\n",
    "axes[0].set_ylabel('Proportion')\n",
    "\n",
    "# Test set distribution\n",
    "sns.barplot(x=test_promo_proportion.index, y=test_promo_proportion.values, ax=axes[1])\n",
    "axes[1].set_title('Promo Distribution - Test Set')\n",
    "axes[1].set_xlabel('Promo (1 = Promo, 0 = No Promo)')\n",
    "axes[1].set_ylabel('Proportion')\n",
    "\n",
    "plt.tight_layout()\n",
    "plt.show()"
   ]
  },
  {
   "cell_type": "code",
   "execution_count": 32,
   "metadata": {},
   "outputs": [
    {
     "name": "stdout",
     "output_type": "stream",
     "text": [
      "['0' 'a' 'b' 'c' 0]\n"
     ]
    }
   ],
   "source": [
    "#Check & compare sales behavior before, during, and after holidays\n",
    "\n",
    "# Check for unique values in StateHoliday to understand what kinds of holidays are marked\n",
    "print(train_df['StateHoliday'].unique())"
   ]
  },
  {
   "cell_type": "code",
   "execution_count": 33,
   "metadata": {},
   "outputs": [],
   "source": [
    "import importlib\n",
    "import eda_customer_purchasing_behavior\n",
    "importlib.reload(eda_customer_purchasing_behavior)\n",
    "\n",
    "from eda_customer_purchasing_behavior import EdaCustomerBehavior\n",
    "train_ob = EdaCustomerBehavior('../data/train.csv')"
   ]
  },
  {
   "cell_type": "code",
   "execution_count": 34,
   "metadata": {},
   "outputs": [],
   "source": [
    "#sales_before, sales_during, sales_after = train_ob.get_sales_before_during_after_holidays(train_df, days=3)"
   ]
  },
  {
   "cell_type": "code",
   "execution_count": 35,
   "metadata": {},
   "outputs": [],
   "source": [
    "sales_df = pd.read_csv('../sales_holiday_analysis.csv')"
   ]
  },
  {
   "cell_type": "code",
   "execution_count": 36,
   "metadata": {},
   "outputs": [],
   "source": [
    "sales_before = sales_df['Before Holiday']\n",
    "sales_during = sales_df['During Holiday']\n",
    "sales_after = sales_df['After Holiday']"
   ]
  },
  {
   "cell_type": "code",
   "execution_count": 37,
   "metadata": {},
   "outputs": [
    {
     "data": {
      "image/png": "[encoded data removed]",
      "text/plain": [
       "<Figure size 1000x600 with 1 Axes>"
      ]
     },
     "metadata": {},
     "output_type": "display_data"
    }
   ],
   "source": [
    "# Plot sales before, during, and after holidays\n",
    "plt.figure(figsize=(10,6))\n",
    "\n",
    "# Create a dataframe for easy plotting\n",
    "sales_df = pd.DataFrame({\n",
    "    'Before Holiday': sales_before,\n",
    "    'During Holiday': sales_during,\n",
    "    'After Holiday': sales_after\n",
    "})\n",
    "\n",
    "# Boxplot to compare sales behavior before, during, and after holidays\n",
    "sns.boxplot(data=sales_df)\n",
    "plt.title('Sales Before, During, and After Holidays')\n",
    "plt.ylabel('Sales')\n",
    "plt.xlabel('Period')\n",
    "plt.show()\n"
   ]
  },
  {
   "cell_type": "code",
   "execution_count": 38,
   "metadata": {},
   "outputs": [],
   "source": [
    "#sales_df.to_csv('../sales_holiday_analysis.csv', index=False)"
   ]
  }
 ],
 "metadata": {
  "kernelspec": {
   "display_name": ".venv",
   "language": "python",
   "name": "python3"
  },
  "language_info": {
   "codemirror_mode": {
    "name": "ipython",
    "version": 3
   },
   "file_extension": ".py",
   "mimetype": "text/x-python",
   "name": "python",
   "nbconvert_exporter": "python",
   "pygments_lexer": "ipython3",
   "version": "3.11.0"
  }
 },
 "nbformat": 4,
 "nbformat_minor": 2
}
